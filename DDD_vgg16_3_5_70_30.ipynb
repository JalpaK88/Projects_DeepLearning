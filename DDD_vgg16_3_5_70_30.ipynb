{
  "nbformat": 4,
  "nbformat_minor": 0,
  "metadata": {
    "colab": {
      "provenance": [],
      "include_colab_link": true
    },
    "kernelspec": {
      "name": "python3",
      "display_name": "Python 3"
    },
    "language_info": {
      "name": "python"
    }
  },
  "cells": [
    {
      "cell_type": "markdown",
      "metadata": {
        "id": "view-in-github",
        "colab_type": "text"
      },
      "source": [
        "<a href=\"https://colab.research.google.com/github/JalpaK88/Projects_DeepLearning/blob/main/DDD_vgg16_3_5_70_30.ipynb\" target=\"_parent\"><img src=\"https://colab.research.google.com/assets/colab-badge.svg\" alt=\"Open In Colab\"/></a>"
      ]
    },
    {
      "cell_type": "code",
      "execution_count": null,
      "metadata": {
        "id": "1xMpAgUF3ZMo"
      },
      "outputs": [],
      "source": [
        "import keras\n",
        "from keras.applications import VGG16\n",
        "import matplotlib.pyplot as plt\n",
        "import numpy as np\n",
        "# from keras.models import Model\n",
        "from keras.preprocessing import image"
      ]
    },
    {
      "cell_type": "code",
      "source": [
        "from google.colab import drive\n",
        "drive.mount('/content/gdrive')"
      ],
      "metadata": {
        "colab": {
          "base_uri": "https://localhost:8080/"
        },
        "id": "640mRgMT4ieG",
        "outputId": "ef7ba2de-536f-4a30-c791-37db29ce1426"
      },
      "execution_count": null,
      "outputs": [
        {
          "output_type": "stream",
          "name": "stdout",
          "text": [
            "Mounted at /content/gdrive\n"
          ]
        }
      ]
    },
    {
      "cell_type": "code",
      "source": [
        "PATH_OF_DATA= '/content/gdrive/\"My Drive\"/train_70'\n",
        "!ls {PATH_OF_DATA}"
      ],
      "metadata": {
        "colab": {
          "base_uri": "https://localhost:8080/"
        },
        "id": "Zabl8hol4mhK",
        "outputId": "0ec48a49-3343-44bb-ad47-3ec6857bfbbe"
      },
      "execution_count": null,
      "outputs": [
        {
          "output_type": "stream",
          "name": "stdout",
          "text": [
            "ls: cannot access '/content/gdrive/My Drive/train_70': No such file or directory\n"
          ]
        }
      ]
    },
    {
      "cell_type": "code",
      "source": [
        "batchsize=8"
      ],
      "metadata": {
        "id": "RGfObq9ARQOF"
      },
      "execution_count": null,
      "outputs": []
    },
    {
      "cell_type": "code",
      "source": [
        "from keras.preprocessing.image import ImageDataGenerator\n",
        "\n",
        "train_data_dir = '/content/gdrive/My Drive/train_70/'\n",
        "validation_data_dir = '/content/gdrive/My Drive/val_20/'\n",
        "\n",
        "train_datagen= ImageDataGenerator(rescale=1./255, rotation_range=0.2,shear_range=0.2,\n",
        "    zoom_range=0.2,width_shift_range=0.2,\n",
        "    height_shift_range=0.2)\n",
        "\n",
        "val_datagen= ImageDataGenerator(rescale=1./255, rotation_range=0.2,shear_range=0.2,\n",
        "    zoom_range=0.2,width_shift_range=0.2,\n",
        "    height_shift_range=0.2)"
      ],
      "metadata": {
        "id": "rMsWOj4Q3z0l",
        "colab": {
          "base_uri": "https://localhost:8080/",
          "height": 383
        },
        "outputId": "ec8c1583-3921-4c18-e3a5-576ebd4c96a0"
      },
      "execution_count": null,
      "outputs": [
        {
          "output_type": "error",
          "ename": "ImportError",
          "evalue": "cannot import name 'ImageDataGenerator' from 'keras.preprocessing.image' (/usr/local/lib/python3.12/dist-packages/keras/preprocessing/image/__init__.py)",
          "traceback": [
            "\u001b[0;31m---------------------------------------------------------------------------\u001b[0m",
            "\u001b[0;31mImportError\u001b[0m                               Traceback (most recent call last)",
            "\u001b[0;32m/tmp/ipython-input-1008854489.py\u001b[0m in \u001b[0;36m<cell line: 0>\u001b[0;34m()\u001b[0m\n\u001b[0;32m----> 1\u001b[0;31m \u001b[0;32mfrom\u001b[0m \u001b[0mkeras\u001b[0m\u001b[0;34m.\u001b[0m\u001b[0mpreprocessing\u001b[0m\u001b[0;34m.\u001b[0m\u001b[0mimage\u001b[0m \u001b[0;32mimport\u001b[0m \u001b[0mImageDataGenerator\u001b[0m\u001b[0;34m\u001b[0m\u001b[0;34m\u001b[0m\u001b[0m\n\u001b[0m\u001b[1;32m      2\u001b[0m \u001b[0;34m\u001b[0m\u001b[0m\n\u001b[1;32m      3\u001b[0m \u001b[0mtrain_data_dir\u001b[0m \u001b[0;34m=\u001b[0m \u001b[0;34m'/content/gdrive/My Drive/train_70/'\u001b[0m\u001b[0;34m\u001b[0m\u001b[0;34m\u001b[0m\u001b[0m\n\u001b[1;32m      4\u001b[0m \u001b[0mvalidation_data_dir\u001b[0m \u001b[0;34m=\u001b[0m \u001b[0;34m'/content/gdrive/My Drive/val_20/'\u001b[0m\u001b[0;34m\u001b[0m\u001b[0;34m\u001b[0m\u001b[0m\n\u001b[1;32m      5\u001b[0m \u001b[0;34m\u001b[0m\u001b[0m\n",
            "\u001b[0;31mImportError\u001b[0m: cannot import name 'ImageDataGenerator' from 'keras.preprocessing.image' (/usr/local/lib/python3.12/dist-packages/keras/preprocessing/image/__init__.py)",
            "",
            "\u001b[0;31m---------------------------------------------------------------------------\u001b[0;32m\nNOTE: If your import is failing due to a missing package, you can\nmanually install dependencies using either !pip or !apt.\n\nTo view examples of installing some common dependencies, click the\n\"Open Examples\" button below.\n\u001b[0;31m---------------------------------------------------------------------------\u001b[0m\n"
          ],
          "errorDetails": {
            "actions": [
              {
                "action": "open_url",
                "actionText": "Open Examples",
                "url": "/notebooks/snippets/importing_libraries.ipynb"
              }
            ]
          }
        }
      ]
    },
    {
      "cell_type": "code",
      "source": [
        "train_data = train_datagen.flow_from_directory(\n",
        "        train_data_dir,\n",
        "        target_size=(80, 80),\n",
        "        batch_size=8,\n",
        "        class_mode='categorical')\n",
        "\n",
        "validation_data = val_datagen.flow_from_directory(\n",
        "        validation_data_dir,\n",
        "        target_size=(80, 80),\n",
        "        batch_size=8,\n",
        "        class_mode='categorical')"
      ],
      "metadata": {
        "id": "2O7p0fk64v45",
        "colab": {
          "base_uri": "https://localhost:8080/"
        },
        "outputId": "20cd42bd-60d0-4723-cf90-ba79164577e7"
      },
      "execution_count": null,
      "outputs": [
        {
          "output_type": "stream",
          "name": "stdout",
          "text": [
            "Found 2800 images belonging to 2 classes.\n",
            "Found 800 images belonging to 2 classes.\n"
          ]
        }
      ]
    },
    {
      "cell_type": "code",
      "source": [
        "test_data_dir = '/content/gdrive/My Drive/test_10/'\n",
        "test_datagen = ImageDataGenerator(rescale=1./255)\n",
        "\n",
        "test_data = test_datagen.flow_from_directory(test_data_dir,\n",
        "        target_size=(80, 80),\n",
        "        batch_size=8,\n",
        "        class_mode='categorical')"
      ],
      "metadata": {
        "colab": {
          "base_uri": "https://localhost:8080/"
        },
        "id": "JD929qG0PWov",
        "outputId": "7dab9f40-cc1b-4e0d-cf7b-4ea7d8dc5d93"
      },
      "execution_count": null,
      "outputs": [
        {
          "output_type": "stream",
          "name": "stdout",
          "text": [
            "Found 400 images belonging to 2 classes.\n"
          ]
        }
      ]
    },
    {
      "cell_type": "code",
      "source": [
        "vgg = VGG16(weights = 'imagenet',\n",
        "                 include_top = False,\n",
        "                 input_shape = (80, 80, 3))\n",
        "\n",
        "# Here we freeze the last 4 layers\n",
        "# Layers are set to trainable as True by default\n",
        "for layer in vgg.layers:\n",
        "    layer.trainable = False\n",
        "\n",
        "# Let's print our layers\n",
        "for (i,layer) in enumerate(vgg.layers):\n",
        "    print(str(i) + \" \"+ layer.__class__.__name__, layer.trainable)\n",
        "\n",
        "def Fc(bottom_model, num_classes):\n",
        "    \"\"\"creates the top or head of the model that will be\n",
        "    placed ontop of the bottom layers\"\"\"\n",
        "\n",
        "    top_model = bottom_model.output\n",
        "    top_model = GlobalAveragePooling2D()(top_model)\n",
        "    top_model = Dense(1024,activation='relu')(top_model)\n",
        "    top_model = Dense(1024,activation='relu')(top_model)\n",
        "    top_model = Dense(512,activation='relu')(top_model)\n",
        "    top_model = Dense(num_classes,activation='softmax')(top_model)\n",
        "    return top_model\n"
      ],
      "metadata": {
        "colab": {
          "base_uri": "https://localhost:8080/"
        },
        "id": "VQtU3W0E4MrO",
        "outputId": "3a8193c2-f5cb-42ce-d1e2-a953a1460b53"
      },
      "execution_count": null,
      "outputs": [
        {
          "output_type": "stream",
          "name": "stdout",
          "text": [
            "Downloading data from https://storage.googleapis.com/tensorflow/keras-applications/vgg16/vgg16_weights_tf_dim_ordering_tf_kernels_notop.h5\n",
            "58889256/58889256 [==============================] - 0s 0us/step\n",
            "0 InputLayer False\n",
            "1 Conv2D False\n",
            "2 Conv2D False\n",
            "3 MaxPooling2D False\n",
            "4 Conv2D False\n",
            "5 Conv2D False\n",
            "6 MaxPooling2D False\n",
            "7 Conv2D False\n",
            "8 Conv2D False\n",
            "9 Conv2D False\n",
            "10 MaxPooling2D False\n",
            "11 Conv2D False\n",
            "12 Conv2D False\n",
            "13 Conv2D False\n",
            "14 MaxPooling2D False\n",
            "15 Conv2D False\n",
            "16 Conv2D False\n",
            "17 Conv2D False\n",
            "18 MaxPooling2D False\n"
          ]
        }
      ]
    },
    {
      "cell_type": "code",
      "source": [
        "from keras.models import Sequential\n",
        "from keras.layers import Dense, Dropout, Activation, Flatten, GlobalAveragePooling2D\n",
        "from keras.layers import Conv2D, MaxPooling2D, ZeroPadding2D\n",
        "# from keras.layers.normalization import BatchNormalization\n",
        "from keras.models import Model"
      ],
      "metadata": {
        "id": "rR92gMHZ4MZf"
      },
      "execution_count": null,
      "outputs": []
    },
    {
      "cell_type": "code",
      "source": [
        "num_classes = 2\n",
        "\n",
        "FC_Head = Fc(vgg, num_classes)\n",
        "\n",
        "model = Model(inputs = vgg.input, outputs = FC_Head)\n",
        "\n",
        "print(model.summary())\n"
      ],
      "metadata": {
        "colab": {
          "base_uri": "https://localhost:8080/"
        },
        "id": "WVjvqnqb5mqN",
        "outputId": "8aab21d2-c716-4817-fc62-e13d1a0aa6b5"
      },
      "execution_count": null,
      "outputs": [
        {
          "output_type": "stream",
          "name": "stdout",
          "text": [
            "Model: \"model\"\n",
            "_________________________________________________________________\n",
            " Layer (type)                Output Shape              Param #   \n",
            "=================================================================\n",
            " input_1 (InputLayer)        [(None, 80, 80, 3)]       0         \n",
            "                                                                 \n",
            " block1_conv1 (Conv2D)       (None, 80, 80, 64)        1792      \n",
            "                                                                 \n",
            " block1_conv2 (Conv2D)       (None, 80, 80, 64)        36928     \n",
            "                                                                 \n",
            " block1_pool (MaxPooling2D)  (None, 40, 40, 64)        0         \n",
            "                                                                 \n",
            " block2_conv1 (Conv2D)       (None, 40, 40, 128)       73856     \n",
            "                                                                 \n",
            " block2_conv2 (Conv2D)       (None, 40, 40, 128)       147584    \n",
            "                                                                 \n",
            " block2_pool (MaxPooling2D)  (None, 20, 20, 128)       0         \n",
            "                                                                 \n",
            " block3_conv1 (Conv2D)       (None, 20, 20, 256)       295168    \n",
            "                                                                 \n",
            " block3_conv2 (Conv2D)       (None, 20, 20, 256)       590080    \n",
            "                                                                 \n",
            " block3_conv3 (Conv2D)       (None, 20, 20, 256)       590080    \n",
            "                                                                 \n",
            " block3_pool (MaxPooling2D)  (None, 10, 10, 256)       0         \n",
            "                                                                 \n",
            " block4_conv1 (Conv2D)       (None, 10, 10, 512)       1180160   \n",
            "                                                                 \n",
            " block4_conv2 (Conv2D)       (None, 10, 10, 512)       2359808   \n",
            "                                                                 \n",
            " block4_conv3 (Conv2D)       (None, 10, 10, 512)       2359808   \n",
            "                                                                 \n",
            " block4_pool (MaxPooling2D)  (None, 5, 5, 512)         0         \n",
            "                                                                 \n",
            " block5_conv1 (Conv2D)       (None, 5, 5, 512)         2359808   \n",
            "                                                                 \n",
            " block5_conv2 (Conv2D)       (None, 5, 5, 512)         2359808   \n",
            "                                                                 \n",
            " block5_conv3 (Conv2D)       (None, 5, 5, 512)         2359808   \n",
            "                                                                 \n",
            " block5_pool (MaxPooling2D)  (None, 2, 2, 512)         0         \n",
            "                                                                 \n",
            " global_average_pooling2d (  (None, 512)               0         \n",
            " GlobalAveragePooling2D)                                         \n",
            "                                                                 \n",
            " dense (Dense)               (None, 1024)              525312    \n",
            "                                                                 \n",
            " dense_1 (Dense)             (None, 1024)              1049600   \n",
            "                                                                 \n",
            " dense_2 (Dense)             (None, 512)               524800    \n",
            "                                                                 \n",
            " dense_3 (Dense)             (None, 2)                 1026      \n",
            "                                                                 \n",
            "=================================================================\n",
            "Total params: 16815426 (64.15 MB)\n",
            "Trainable params: 2100738 (8.01 MB)\n",
            "Non-trainable params: 14714688 (56.13 MB)\n",
            "_________________________________________________________________\n",
            "None\n"
          ]
        }
      ]
    },
    {
      "cell_type": "code",
      "source": [
        "from keras.optimizers import RMSprop\n",
        "from keras.callbacks import ModelCheckpoint, EarlyStopping, ReduceLROnPlateau\n",
        "\n",
        "model_path = '/content/gdrive/My Drive/Model/Model_3_5/vgg_70_20_10.h5'\n",
        "checkpoint = ModelCheckpoint(model_path,\n",
        "                            monitor='val_loss',save_best_only=True,verbose=3)\n",
        "earlystop = EarlyStopping(monitor = 'val_loss', patience=7, verbose= 3, restore_best_weights=True)\n",
        "\n",
        "learning_rate = ReduceLROnPlateau(monitor= 'val_loss', patience=3, verbose= 3, )\n",
        "\n",
        "callbacks=[checkpoint,earlystop,learning_rate]"
      ],
      "metadata": {
        "id": "yCcv4rU_5-uU"
      },
      "execution_count": null,
      "outputs": []
    },
    {
      "cell_type": "code",
      "source": [
        "model.compile(optimizer='Adam', loss='categorical_crossentropy',metrics=['accuracy'])\n",
        "\n",
        "history = model.fit_generator(train_data,steps_per_epoch=train_data.samples//batchsize,\n",
        "                   validation_data=validation_data,\n",
        "                   validation_steps=validation_data.samples//batchsize,\n",
        "                   callbacks=callbacks,\n",
        "                    epochs=5)"
      ],
      "metadata": {
        "colab": {
          "base_uri": "https://localhost:8080/"
        },
        "id": "TAxobhAl6ROk",
        "outputId": "c43bdf19-a203-4b9d-9542-0d3342478e87"
      },
      "execution_count": null,
      "outputs": [
        {
          "output_type": "stream",
          "name": "stdout",
          "text": [
            "Epoch 1/5\n"
          ]
        },
        {
          "output_type": "stream",
          "name": "stderr",
          "text": [
            "<ipython-input-73-fc97a5cf3cc7>:3: UserWarning: `Model.fit_generator` is deprecated and will be removed in a future version. Please use `Model.fit`, which supports generators.\n",
            "  history = model.fit_generator(train_data,steps_per_epoch=train_data.samples//batchsize,\n"
          ]
        },
        {
          "output_type": "stream",
          "name": "stdout",
          "text": [
            "350/350 [==============================] - ETA: 0s - loss: 0.0853 - accuracy: 0.9704\n",
            "Epoch 1: val_loss did not improve from 0.10474\n",
            "350/350 [==============================] - 313s 891ms/step - loss: 0.0853 - accuracy: 0.9704 - val_loss: 0.2311 - val_accuracy: 0.9025 - lr: 0.0010\n",
            "Epoch 2/5\n",
            "350/350 [==============================] - ETA: 0s - loss: 0.0829 - accuracy: 0.9746\n",
            "Epoch 2: val_loss did not improve from 0.10474\n",
            "350/350 [==============================] - 308s 880ms/step - loss: 0.0829 - accuracy: 0.9746 - val_loss: 0.1866 - val_accuracy: 0.9025 - lr: 0.0010\n",
            "Epoch 3/5\n",
            "350/350 [==============================] - ETA: 0s - loss: 0.0713 - accuracy: 0.9775\n",
            "Epoch 3: val_loss did not improve from 0.10474\n",
            "350/350 [==============================] - 311s 889ms/step - loss: 0.0713 - accuracy: 0.9775 - val_loss: 0.4487 - val_accuracy: 0.8438 - lr: 0.0010\n",
            "Epoch 4/5\n",
            "350/350 [==============================] - ETA: 0s - loss: 0.0650 - accuracy: 0.9782\n",
            "Epoch 4: val_loss did not improve from 0.10474\n",
            "350/350 [==============================] - 310s 885ms/step - loss: 0.0650 - accuracy: 0.9782 - val_loss: 0.1265 - val_accuracy: 0.9538 - lr: 0.0010\n",
            "Epoch 5/5\n",
            "350/350 [==============================] - ETA: 0s - loss: 0.0582 - accuracy: 0.9796\n",
            "Epoch 5: val_loss did not improve from 0.10474\n",
            "350/350 [==============================] - 314s 897ms/step - loss: 0.0582 - accuracy: 0.9796 - val_loss: 0.1155 - val_accuracy: 0.9488 - lr: 0.0010\n"
          ]
        }
      ]
    },
    {
      "cell_type": "code",
      "source": [
        "loss_tr, acc_tr = model.evaluate_generator(train_data)\n",
        "\n",
        "print(loss_tr)\n",
        "print(acc_tr)"
      ],
      "metadata": {
        "colab": {
          "base_uri": "https://localhost:8080/"
        },
        "id": "sUCglbHXSnFM",
        "outputId": "f31b0bae-9471-46ef-c3ec-73dfca19f613"
      },
      "execution_count": null,
      "outputs": [
        {
          "output_type": "stream",
          "name": "stderr",
          "text": [
            "<ipython-input-75-c527480a9875>:1: UserWarning: `Model.evaluate_generator` is deprecated and will be removed in a future version. Please use `Model.evaluate`, which supports generators.\n",
            "  loss_tr, acc_tr = model.evaluate_generator(train_data)\n"
          ]
        },
        {
          "output_type": "stream",
          "name": "stdout",
          "text": [
            "0.08422785252332687\n",
            "0.9649999737739563\n"
          ]
        }
      ]
    },
    {
      "cell_type": "code",
      "source": [
        "loss_vr, acc_vr = model.evaluate_generator(validation_data)\n",
        "\n",
        "print(loss_vr)\n",
        "print(acc_vr)"
      ],
      "metadata": {
        "colab": {
          "base_uri": "https://localhost:8080/"
        },
        "id": "6kybQiPjSp0U",
        "outputId": "edf56b08-b44e-42c1-9d43-bd8f58fa391e"
      },
      "execution_count": null,
      "outputs": [
        {
          "output_type": "stream",
          "name": "stderr",
          "text": [
            "<ipython-input-76-cc7cefa02e4d>:1: UserWarning: `Model.evaluate_generator` is deprecated and will be removed in a future version. Please use `Model.evaluate`, which supports generators.\n",
            "  loss_vr, acc_vr = model.evaluate_generator(validation_data)\n"
          ]
        },
        {
          "output_type": "stream",
          "name": "stdout",
          "text": [
            "0.11700792610645294\n",
            "0.9537500143051147\n"
          ]
        }
      ]
    },
    {
      "cell_type": "code",
      "source": [
        "loss_test, acc_test = model.evaluate_generator(test_data)\n",
        "print(loss_test)\n",
        "print(acc_test)"
      ],
      "metadata": {
        "colab": {
          "base_uri": "https://localhost:8080/"
        },
        "id": "RarHBUeoSruL",
        "outputId": "681fdb0d-3068-4294-b79d-ca7283bf5e5a"
      },
      "execution_count": null,
      "outputs": [
        {
          "output_type": "stream",
          "name": "stderr",
          "text": [
            "<ipython-input-77-3f370467cf05>:1: UserWarning: `Model.evaluate_generator` is deprecated and will be removed in a future version. Please use `Model.evaluate`, which supports generators.\n",
            "  loss_test, acc_test = model.evaluate_generator(test_data)\n"
          ]
        },
        {
          "output_type": "stream",
          "name": "stdout",
          "text": [
            "0.10349570214748383\n",
            "0.9574999809265137\n"
          ]
        }
      ]
    },
    {
      "cell_type": "code",
      "source": [
        "# # Plot train and validation loss\n",
        "# plt.figure(figsize=(12, 6))\n",
        "# plt.subplot(1, 2, 1)\n",
        "# plt.plot(history.history['loss'], label='Train Loss')\n",
        "# plt.plot(history.history['val_loss'], label='Validation Loss')\n",
        "# plt.xlabel('Epoch')\n",
        "# plt.ylabel('Loss')\n",
        "# plt.title('Train and Validation Loss')\n",
        "# plt.legend()\n",
        "\n",
        "# # Plot train and validation accuracy\n",
        "# plt.subplot(1, 2, 2)\n",
        "# plt.plot(history.history['accuracy'], label='Train Accuracy')\n",
        "# plt.plot(history.history['val_accuracy'], label='Validation Accuracy')\n",
        "# plt.xlabel('Epoch')\n",
        "# plt.ylabel('Accuracy')\n",
        "# plt.title('Train and Validation Accuracy')\n",
        "# plt.legend()\n",
        "\n",
        "# plt.show()"
      ],
      "metadata": {
        "id": "teBCTNpzZ5Or"
      },
      "execution_count": null,
      "outputs": []
    },
    {
      "cell_type": "code",
      "source": [
        "# # Evaluate on test data\n",
        "# loss_test, acc_test = model.evaluate_generator(test_data)\n",
        "# print(\"Test Loss:\", loss_test)\n",
        "# print(\"Test Accuracy:\", acc_test)\n",
        "\n",
        "# # Plot test loss and accuracy\n",
        "# plt.figure(figsize=(8, 4))\n",
        "# plt.subplot(1, 2, 1)\n",
        "# # plt.bar(['Test Loss'], [loss_test], color='blue')\n",
        "# plt.plot(['Test Loss'], [loss_test], color='blue')\n",
        "# plt.xlabel('Epoch')\n",
        "# plt.ylabel('Loss')\n",
        "# plt.title('Test Loss')\n",
        "\n",
        "# plt.subplot(1, 2, 2)\n",
        "# # plt.bar(['Test Accuracy'], [acc_test], color='green')\n",
        "# plt.plot(['Test Accuracy'], [acc_test], color='green')\n",
        "# plt.xlabel('Epoch')\n",
        "# plt.ylabel('Accuracy')\n",
        "# plt.title('Test Accuracy')\n",
        "\n",
        "# plt.show()"
      ],
      "metadata": {
        "id": "H-tWkqklZ_BG"
      },
      "execution_count": null,
      "outputs": []
    },
    {
      "cell_type": "code",
      "source": [
        "# Load the trained model\n",
        "model_path = '/content/gdrive/My Drive/Model/Model_3_5/vgg_70_20_10.h5'\n",
        "model = keras.models.load_model(model_path)\n",
        "\n",
        "# Select a random image from the test dataset\n",
        "random_test_image = np.random.choice(test_data.samples)\n",
        "\n",
        "# Load and preprocess the image\n",
        "img_path = test_data.filepaths[random_test_image]\n",
        "img = image.load_img(img_path, target_size=(80, 80))\n",
        "img_array = image.img_to_array(img)\n",
        "img_array = np.expand_dims(img_array, axis=0)\n",
        "img_array /= 255.  # Rescale to [0, 1]\n",
        "\n",
        "# Predict the class probabilities for the image\n",
        "predictions = model.predict(img_array)\n",
        "\n",
        "# Interpret the predictions\n",
        "class_names = ['Closed', 'Open']\n",
        "predicted_class = np.argmax(predictions)\n",
        "\n",
        "# Visualize the result\n",
        "plt.imshow(img)\n",
        "plt.axis('off')\n",
        "plt.title(f'Predicted: {class_names[predicted_class]}')\n",
        "plt.show()"
      ],
      "metadata": {
        "colab": {
          "base_uri": "https://localhost:8080/",
          "height": 445
        },
        "id": "rtYIQp3R4toj",
        "outputId": "0f02bad4-6059-4be5-85c3-1500bc95893e"
      },
      "execution_count": null,
      "outputs": [
        {
          "output_type": "stream",
          "name": "stdout",
          "text": [
            "1/1 [==============================] - 0s 234ms/step\n"
          ]
        },
        {
          "output_type": "display_data",
          "data": {
            "text/plain": [
              "<Figure size 640x480 with 1 Axes>"
            ],
            "image/png": "[encoded data removed]"
          },
          "metadata": {}
        }
      ]
    },
    {
      "cell_type": "code",
      "source": [
        "# Select 5 random indices from the test dataset\n",
        "random_indices = np.random.choice(test_data.samples, size=5, replace=False)\n",
        "\n",
        "# Load the trained model\n",
        "model_path = '/content/gdrive/My Drive/Model/Model_3_5/vgg_70_20_10.h5'\n",
        "model = keras.models.load_model(model_path)\n",
        "\n",
        "# Display the 5 random images with appropriate labels\n",
        "plt.figure(figsize=(15, 5))\n",
        "for i, idx in enumerate(random_indices):\n",
        "    img_path = test_data.filepaths[idx]\n",
        "    img = image.load_img(img_path, target_size=(80, 80))\n",
        "    img_array = image.img_to_array(img)\n",
        "    img_array = np.expand_dims(img_array, axis=0)\n",
        "    img_array /= 255.  # Rescale to [0, 1]\n",
        "\n",
        "    # Predict the class probabilities for the image\n",
        "    predictions = model.predict(img_array)\n",
        "\n",
        "    # Interpret the predictions\n",
        "    class_names = ['Closed', 'Open']\n",
        "    predicted_class = np.argmax(predictions)\n",
        "\n",
        "    # Display the image with appropriate label\n",
        "    plt.subplot(1, 5, i+1)\n",
        "    plt.imshow(img)\n",
        "    plt.title(f\"Predicted: {class_names[predicted_class]}\")\n",
        "    plt.axis('off')\n",
        "\n",
        "plt.show()"
      ],
      "metadata": {
        "colab": {
          "base_uri": "https://localhost:8080/",
          "height": 211
        },
        "id": "p5_f3ijJ6kHC",
        "outputId": "50aa3f5c-5e41-498c-f527-ed0c9e397d89"
      },
      "execution_count": null,
      "outputs": [
        {
          "output_type": "error",
          "ename": "NameError",
          "evalue": "name 'np' is not defined",
          "traceback": [
            "\u001b[0;31m---------------------------------------------------------------------------\u001b[0m",
            "\u001b[0;31mNameError\u001b[0m                                 Traceback (most recent call last)",
            "\u001b[0;32m/tmp/ipython-input-818774667.py\u001b[0m in \u001b[0;36m<cell line: 0>\u001b[0;34m()\u001b[0m\n\u001b[1;32m      1\u001b[0m \u001b[0;31m# Select 5 random indices from the test dataset\u001b[0m\u001b[0;34m\u001b[0m\u001b[0;34m\u001b[0m\u001b[0m\n\u001b[0;32m----> 2\u001b[0;31m \u001b[0mrandom_indices\u001b[0m \u001b[0;34m=\u001b[0m \u001b[0mnp\u001b[0m\u001b[0;34m.\u001b[0m\u001b[0mrandom\u001b[0m\u001b[0;34m.\u001b[0m\u001b[0mchoice\u001b[0m\u001b[0;34m(\u001b[0m\u001b[0mtest_data\u001b[0m\u001b[0;34m.\u001b[0m\u001b[0msamples\u001b[0m\u001b[0;34m,\u001b[0m \u001b[0msize\u001b[0m\u001b[0;34m=\u001b[0m\u001b[0;36m5\u001b[0m\u001b[0;34m,\u001b[0m \u001b[0mreplace\u001b[0m\u001b[0;34m=\u001b[0m\u001b[0;32mFalse\u001b[0m\u001b[0;34m)\u001b[0m\u001b[0;34m\u001b[0m\u001b[0;34m\u001b[0m\u001b[0m\n\u001b[0m\u001b[1;32m      3\u001b[0m \u001b[0;34m\u001b[0m\u001b[0m\n\u001b[1;32m      4\u001b[0m \u001b[0;31m# Load the trained model\u001b[0m\u001b[0;34m\u001b[0m\u001b[0;34m\u001b[0m\u001b[0m\n\u001b[1;32m      5\u001b[0m \u001b[0mmodel_path\u001b[0m \u001b[0;34m=\u001b[0m \u001b[0;34m'/content/gdrive/My Drive/Model/Model_3_5/vgg_70_20_10.h5'\u001b[0m\u001b[0;34m\u001b[0m\u001b[0;34m\u001b[0m\u001b[0m\n",
            "\u001b[0;31mNameError\u001b[0m: name 'np' is not defined"
          ]
        }
      ]
    }
  ]
}